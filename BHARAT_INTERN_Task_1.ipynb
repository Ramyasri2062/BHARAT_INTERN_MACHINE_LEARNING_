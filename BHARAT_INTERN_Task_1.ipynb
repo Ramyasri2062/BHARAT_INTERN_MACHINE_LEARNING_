{
  "nbformat": 4,
  "nbformat_minor": 0,
  "metadata": {
    "colab": {
      "provenance": [],
      "authorship_tag": "ABX9TyM7GJFpxcd4qG+F/6mFFg43",
      "include_colab_link": true
    },
    "kernelspec": {
      "name": "python3",
      "display_name": "Python 3"
    },
    "language_info": {
      "name": "python"
    }
  },
  "cells": [
    {
      "cell_type": "markdown",
      "metadata": {
        "id": "view-in-github",
        "colab_type": "text"
      },
      "source": [
        "<a href=\"https://colab.research.google.com/github/Ramyasri2062/BHARAT_INTERN_MACHINE_LEARNING_/blob/main/BHARAT_INTERN_Task_1.ipynb\" target=\"_parent\"><img src=\"https://colab.research.google.com/assets/colab-badge.svg\" alt=\"Open In Colab\"/></a>"
      ]
    },
    {
      "cell_type": "code",
      "execution_count": null,
      "metadata": {
        "id": "brt89hYowW3p"
      },
      "outputs": [],
      "source": [
        "import pandas as pd\n",
        "import numpy as np\n",
        "import matplotlib.pyplot as plt\n",
        "import seaborn as sns"
      ]
    },
    {
      "cell_type": "code",
      "source": [
        "df = pd.read_csv(\"house_prices.csv\")"
      ],
      "metadata": {
        "id": "6OYFOhnKYdCy"
      },
      "execution_count": null,
      "outputs": []
    },
    {
      "cell_type": "code",
      "source": [
        "df.head(10)\n"
      ],
      "metadata": {
        "colab": {
          "base_uri": "https://localhost:8080/",
          "height": 427
        },
        "id": "nnwSRwV2Zt6e",
        "outputId": "0d7d1b55-dbba-4ba9-d3c4-2cff7abd7219"
      },
      "execution_count": null,
      "outputs": [
        {
          "output_type": "execute_result",
          "data": {
            "text/plain": [
              "   Id  LotArea  MasVnrArea  BsmtUnfSF  TotalBsmtSF  1stFlrSF  2ndFlrSF  \\\n",
              "0   1     8450       196.0        150          856       856       854   \n",
              "1   2     9600         0.0        284         1262      1262         0   \n",
              "2   3    11250       162.0        434          920       920       866   \n",
              "3   4     9550         0.0        540          756       961       756   \n",
              "4   5    14260       350.0        490         1145      1145      1053   \n",
              "5   6    14115         0.0         64          796       796       566   \n",
              "6   7    10084       186.0        317         1686      1694         0   \n",
              "7   8    10382       240.0        216         1107      1107       983   \n",
              "8   9     6120         0.0        952          952      1022       752   \n",
              "9  10     7420         0.0        140          991      1077         0   \n",
              "\n",
              "   GrLivArea  GarageArea  WoodDeckSF  OpenPorchSF  SalePrice  \n",
              "0       1710         548           0           61     208500  \n",
              "1       1262         460         298            0     181500  \n",
              "2       1786         608           0           42     223500  \n",
              "3       1717         642           0           35     140000  \n",
              "4       2198         836         192           84     250000  \n",
              "5       1362         480          40           30     143000  \n",
              "6       1694         636         255           57     307000  \n",
              "7       2090         484         235          204     200000  \n",
              "8       1774         468          90            0     129900  \n",
              "9       1077         205           0            4     118000  "
            ],
            "text/html": [
              "\n",
              "  <div id=\"df-6e48b005-7da6-49bf-9999-bc77b238c622\">\n",
              "    <div class=\"colab-df-container\">\n",
              "      <div>\n",
              "<style scoped>\n",
              "    .dataframe tbody tr th:only-of-type {\n",
              "        vertical-align: middle;\n",
              "    }\n",
              "\n",
              "    .dataframe tbody tr th {\n",
              "        vertical-align: top;\n",
              "    }\n",
              "\n",
              "    .dataframe thead th {\n",
              "        text-align: right;\n",
              "    }\n",
              "</style>\n",
              "<table border=\"1\" class=\"dataframe\">\n",
              "  <thead>\n",
              "    <tr style=\"text-align: right;\">\n",
              "      <th></th>\n",
              "      <th>Id</th>\n",
              "      <th>LotArea</th>\n",
              "      <th>MasVnrArea</th>\n",
              "      <th>BsmtUnfSF</th>\n",
              "      <th>TotalBsmtSF</th>\n",
              "      <th>1stFlrSF</th>\n",
              "      <th>2ndFlrSF</th>\n",
              "      <th>GrLivArea</th>\n",
              "      <th>GarageArea</th>\n",
              "      <th>WoodDeckSF</th>\n",
              "      <th>OpenPorchSF</th>\n",
              "      <th>SalePrice</th>\n",
              "    </tr>\n",
              "  </thead>\n",
              "  <tbody>\n",
              "    <tr>\n",
              "      <th>0</th>\n",
              "      <td>1</td>\n",
              "      <td>8450</td>\n",
              "      <td>196.0</td>\n",
              "      <td>150</td>\n",
              "      <td>856</td>\n",
              "      <td>856</td>\n",
              "      <td>854</td>\n",
              "      <td>1710</td>\n",
              "      <td>548</td>\n",
              "      <td>0</td>\n",
              "      <td>61</td>\n",
              "      <td>208500</td>\n",
              "    </tr>\n",
              "    <tr>\n",
              "      <th>1</th>\n",
              "      <td>2</td>\n",
              "      <td>9600</td>\n",
              "      <td>0.0</td>\n",
              "      <td>284</td>\n",
              "      <td>1262</td>\n",
              "      <td>1262</td>\n",
              "      <td>0</td>\n",
              "      <td>1262</td>\n",
              "      <td>460</td>\n",
              "      <td>298</td>\n",
              "      <td>0</td>\n",
              "      <td>181500</td>\n",
              "    </tr>\n",
              "    <tr>\n",
              "      <th>2</th>\n",
              "      <td>3</td>\n",
              "      <td>11250</td>\n",
              "      <td>162.0</td>\n",
              "      <td>434</td>\n",
              "      <td>920</td>\n",
              "      <td>920</td>\n",
              "      <td>866</td>\n",
              "      <td>1786</td>\n",
              "      <td>608</td>\n",
              "      <td>0</td>\n",
              "      <td>42</td>\n",
              "      <td>223500</td>\n",
              "    </tr>\n",
              "    <tr>\n",
              "      <th>3</th>\n",
              "      <td>4</td>\n",
              "      <td>9550</td>\n",
              "      <td>0.0</td>\n",
              "      <td>540</td>\n",
              "      <td>756</td>\n",
              "      <td>961</td>\n",
              "      <td>756</td>\n",
              "      <td>1717</td>\n",
              "      <td>642</td>\n",
              "      <td>0</td>\n",
              "      <td>35</td>\n",
              "      <td>140000</td>\n",
              "    </tr>\n",
              "    <tr>\n",
              "      <th>4</th>\n",
              "      <td>5</td>\n",
              "      <td>14260</td>\n",
              "      <td>350.0</td>\n",
              "      <td>490</td>\n",
              "      <td>1145</td>\n",
              "      <td>1145</td>\n",
              "      <td>1053</td>\n",
              "      <td>2198</td>\n",
              "      <td>836</td>\n",
              "      <td>192</td>\n",
              "      <td>84</td>\n",
              "      <td>250000</td>\n",
              "    </tr>\n",
              "    <tr>\n",
              "      <th>5</th>\n",
              "      <td>6</td>\n",
              "      <td>14115</td>\n",
              "      <td>0.0</td>\n",
              "      <td>64</td>\n",
              "      <td>796</td>\n",
              "      <td>796</td>\n",
              "      <td>566</td>\n",
              "      <td>1362</td>\n",
              "      <td>480</td>\n",
              "      <td>40</td>\n",
              "      <td>30</td>\n",
              "      <td>143000</td>\n",
              "    </tr>\n",
              "    <tr>\n",
              "      <th>6</th>\n",
              "      <td>7</td>\n",
              "      <td>10084</td>\n",
              "      <td>186.0</td>\n",
              "      <td>317</td>\n",
              "      <td>1686</td>\n",
              "      <td>1694</td>\n",
              "      <td>0</td>\n",
              "      <td>1694</td>\n",
              "      <td>636</td>\n",
              "      <td>255</td>\n",
              "      <td>57</td>\n",
              "      <td>307000</td>\n",
              "    </tr>\n",
              "    <tr>\n",
              "      <th>7</th>\n",
              "      <td>8</td>\n",
              "      <td>10382</td>\n",
              "      <td>240.0</td>\n",
              "      <td>216</td>\n",
              "      <td>1107</td>\n",
              "      <td>1107</td>\n",
              "      <td>983</td>\n",
              "      <td>2090</td>\n",
              "      <td>484</td>\n",
              "      <td>235</td>\n",
              "      <td>204</td>\n",
              "      <td>200000</td>\n",
              "    </tr>\n",
              "    <tr>\n",
              "      <th>8</th>\n",
              "      <td>9</td>\n",
              "      <td>6120</td>\n",
              "      <td>0.0</td>\n",
              "      <td>952</td>\n",
              "      <td>952</td>\n",
              "      <td>1022</td>\n",
              "      <td>752</td>\n",
              "      <td>1774</td>\n",
              "      <td>468</td>\n",
              "      <td>90</td>\n",
              "      <td>0</td>\n",
              "      <td>129900</td>\n",
              "    </tr>\n",
              "    <tr>\n",
              "      <th>9</th>\n",
              "      <td>10</td>\n",
              "      <td>7420</td>\n",
              "      <td>0.0</td>\n",
              "      <td>140</td>\n",
              "      <td>991</td>\n",
              "      <td>1077</td>\n",
              "      <td>0</td>\n",
              "      <td>1077</td>\n",
              "      <td>205</td>\n",
              "      <td>0</td>\n",
              "      <td>4</td>\n",
              "      <td>118000</td>\n",
              "    </tr>\n",
              "  </tbody>\n",
              "</table>\n",
              "</div>\n",
              "      <button class=\"colab-df-convert\" onclick=\"convertToInteractive('df-6e48b005-7da6-49bf-9999-bc77b238c622')\"\n",
              "              title=\"Convert this dataframe to an interactive table.\"\n",
              "              style=\"display:none;\">\n",
              "        \n",
              "  <svg xmlns=\"http://www.w3.org/2000/svg\" height=\"24px\"viewBox=\"0 0 24 24\"\n",
              "       width=\"24px\">\n",
              "    <path d=\"M0 0h24v24H0V0z\" fill=\"none\"/>\n",
              "    <path d=\"M18.56 5.44l.94 2.06.94-2.06 2.06-.94-2.06-.94-.94-2.06-.94 2.06-2.06.94zm-11 1L8.5 8.5l.94-2.06 2.06-.94-2.06-.94L8.5 2.5l-.94 2.06-2.06.94zm10 10l.94 2.06.94-2.06 2.06-.94-2.06-.94-.94-2.06-.94 2.06-2.06.94z\"/><path d=\"M17.41 7.96l-1.37-1.37c-.4-.4-.92-.59-1.43-.59-.52 0-1.04.2-1.43.59L10.3 9.45l-7.72 7.72c-.78.78-.78 2.05 0 2.83L4 21.41c.39.39.9.59 1.41.59.51 0 1.02-.2 1.41-.59l7.78-7.78 2.81-2.81c.8-.78.8-2.07 0-2.86zM5.41 20L4 18.59l7.72-7.72 1.47 1.35L5.41 20z\"/>\n",
              "  </svg>\n",
              "      </button>\n",
              "      \n",
              "  <style>\n",
              "    .colab-df-container {\n",
              "      display:flex;\n",
              "      flex-wrap:wrap;\n",
              "      gap: 12px;\n",
              "    }\n",
              "\n",
              "    .colab-df-convert {\n",
              "      background-color: #E8F0FE;\n",
              "      border: none;\n",
              "      border-radius: 50%;\n",
              "      cursor: pointer;\n",
              "      display: none;\n",
              "      fill: #1967D2;\n",
              "      height: 32px;\n",
              "      padding: 0 0 0 0;\n",
              "      width: 32px;\n",
              "    }\n",
              "\n",
              "    .colab-df-convert:hover {\n",
              "      background-color: #E2EBFA;\n",
              "      box-shadow: 0px 1px 2px rgba(60, 64, 67, 0.3), 0px 1px 3px 1px rgba(60, 64, 67, 0.15);\n",
              "      fill: #174EA6;\n",
              "    }\n",
              "\n",
              "    [theme=dark] .colab-df-convert {\n",
              "      background-color: #3B4455;\n",
              "      fill: #D2E3FC;\n",
              "    }\n",
              "\n",
              "    [theme=dark] .colab-df-convert:hover {\n",
              "      background-color: #434B5C;\n",
              "      box-shadow: 0px 1px 3px 1px rgba(0, 0, 0, 0.15);\n",
              "      filter: drop-shadow(0px 1px 2px rgba(0, 0, 0, 0.3));\n",
              "      fill: #FFFFFF;\n",
              "    }\n",
              "  </style>\n",
              "\n",
              "      <script>\n",
              "        const buttonEl =\n",
              "          document.querySelector('#df-6e48b005-7da6-49bf-9999-bc77b238c622 button.colab-df-convert');\n",
              "        buttonEl.style.display =\n",
              "          google.colab.kernel.accessAllowed ? 'block' : 'none';\n",
              "\n",
              "        async function convertToInteractive(key) {\n",
              "          const element = document.querySelector('#df-6e48b005-7da6-49bf-9999-bc77b238c622');\n",
              "          const dataTable =\n",
              "            await google.colab.kernel.invokeFunction('convertToInteractive',\n",
              "                                                     [key], {});\n",
              "          if (!dataTable) return;\n",
              "\n",
              "          const docLinkHtml = 'Like what you see? Visit the ' +\n",
              "            '<a target=\"_blank\" href=https://colab.research.google.com/notebooks/data_table.ipynb>data table notebook</a>'\n",
              "            + ' to learn more about interactive tables.';\n",
              "          element.innerHTML = '';\n",
              "          dataTable['output_type'] = 'display_data';\n",
              "          await google.colab.output.renderOutput(dataTable, element);\n",
              "          const docLink = document.createElement('div');\n",
              "          docLink.innerHTML = docLinkHtml;\n",
              "          element.appendChild(docLink);\n",
              "        }\n",
              "      </script>\n",
              "    </div>\n",
              "  </div>\n",
              "  "
            ]
          },
          "metadata": {},
          "execution_count": 11
        }
      ]
    },
    {
      "cell_type": "code",
      "source": [
        "df.columns"
      ],
      "metadata": {
        "colab": {
          "base_uri": "https://localhost:8080/"
        },
        "id": "7k4x6G0hZ4DZ",
        "outputId": "1d256051-a867-4048-c750-f75c8cce9468"
      },
      "execution_count": null,
      "outputs": [
        {
          "output_type": "execute_result",
          "data": {
            "text/plain": [
              "Index(['Id', 'LotArea', 'MasVnrArea', 'BsmtUnfSF', 'TotalBsmtSF', '1stFlrSF',\n",
              "       '2ndFlrSF', 'GrLivArea', 'GarageArea', 'WoodDeckSF', 'OpenPorchSF',\n",
              "       'SalePrice'],\n",
              "      dtype='object')"
            ]
          },
          "metadata": {},
          "execution_count": 12
        }
      ]
    },
    {
      "cell_type": "code",
      "source": [
        "df.shape"
      ],
      "metadata": {
        "colab": {
          "base_uri": "https://localhost:8080/"
        },
        "id": "IMe5VVcTaDot",
        "outputId": "eb7568b2-8e2a-4550-cc13-5ddbb64de7b3"
      },
      "execution_count": null,
      "outputs": [
        {
          "output_type": "execute_result",
          "data": {
            "text/plain": [
              "(1460, 12)"
            ]
          },
          "metadata": {},
          "execution_count": 13
        }
      ]
    },
    {
      "cell_type": "code",
      "source": [
        "df.info()"
      ],
      "metadata": {
        "colab": {
          "base_uri": "https://localhost:8080/"
        },
        "id": "R_k614_QaHv5",
        "outputId": "2d69ab1e-3dc6-4445-d9b6-a362e678b60d"
      },
      "execution_count": null,
      "outputs": [
        {
          "output_type": "stream",
          "name": "stdout",
          "text": [
            "<class 'pandas.core.frame.DataFrame'>\n",
            "RangeIndex: 1460 entries, 0 to 1459\n",
            "Data columns (total 12 columns):\n",
            " #   Column       Non-Null Count  Dtype  \n",
            "---  ------       --------------  -----  \n",
            " 0   Id           1460 non-null   int64  \n",
            " 1   LotArea      1460 non-null   int64  \n",
            " 2   MasVnrArea   1452 non-null   float64\n",
            " 3   BsmtUnfSF    1460 non-null   int64  \n",
            " 4   TotalBsmtSF  1460 non-null   int64  \n",
            " 5   1stFlrSF     1460 non-null   int64  \n",
            " 6   2ndFlrSF     1460 non-null   int64  \n",
            " 7   GrLivArea    1460 non-null   int64  \n",
            " 8   GarageArea   1460 non-null   int64  \n",
            " 9   WoodDeckSF   1460 non-null   int64  \n",
            " 10  OpenPorchSF  1460 non-null   int64  \n",
            " 11  SalePrice    1460 non-null   int64  \n",
            "dtypes: float64(1), int64(11)\n",
            "memory usage: 137.0 KB\n"
          ]
        }
      ]
    },
    {
      "cell_type": "code",
      "source": [
        "df.isnull().sum()"
      ],
      "metadata": {
        "colab": {
          "base_uri": "https://localhost:8080/"
        },
        "id": "E-cDwoh5aT0e",
        "outputId": "134547ea-5329-440e-f652-39b21642ee6e"
      },
      "execution_count": null,
      "outputs": [
        {
          "output_type": "execute_result",
          "data": {
            "text/plain": [
              "Id             0\n",
              "LotArea        0\n",
              "MasVnrArea     8\n",
              "BsmtUnfSF      0\n",
              "TotalBsmtSF    0\n",
              "1stFlrSF       0\n",
              "2ndFlrSF       0\n",
              "GrLivArea      0\n",
              "GarageArea     0\n",
              "WoodDeckSF     0\n",
              "OpenPorchSF    0\n",
              "SalePrice      0\n",
              "dtype: int64"
            ]
          },
          "metadata": {},
          "execution_count": 15
        }
      ]
    },
    {
      "cell_type": "code",
      "source": [
        "counter = 0\n",
        "rs,cs = df.shape\n",
        "\n",
        "df.drop_duplicates(inplace=True)\n",
        "\n",
        "if df.shape==(rs,cs):\n",
        "    print('\\n\\033[1mInference:\\033[0m The dataset doesn\\'t have any duplicates')\n",
        "else:\n",
        "    print(f'\\n\\033[1mInference:\\033[0m Number of duplicates dropped/fixed ---> {rs-df.shape[0]}')"
      ],
      "metadata": {
        "colab": {
          "base_uri": "https://localhost:8080/"
        },
        "id": "dTeD-Om8aZVq",
        "outputId": "83a47cdd-b3b0-41b4-8f5a-7e774f49f534"
      },
      "execution_count": null,
      "outputs": [
        {
          "output_type": "stream",
          "name": "stdout",
          "text": [
            "\n",
            "\u001b[1mInference:\u001b[0m The dataset doesn't have any duplicates\n"
          ]
        }
      ]
    },
    {
      "cell_type": "code",
      "source": [
        "from sklearn.preprocessing import LabelEncoder\n",
        "categ = ['Id', 'LotArea', 'MasVnrArea', 'BsmtUnfSF', 'TotalBsmtSF', '1stFlrSF',\n",
        "       '2ndFlrSF', 'GrLivArea', 'GarageArea', 'WoodDeckSF', 'OpenPorchSF',\n",
        "       'SalePrice']\n",
        "\n",
        "# Encode Categorical Columns\n",
        "le = LabelEncoder()\n",
        "df[categ] = df[categ].apply(le.fit_transform)"
      ],
      "metadata": {
        "id": "Ux3UqlCUaepL"
      },
      "execution_count": null,
      "outputs": []
    },
    {
      "cell_type": "code",
      "source": [
        "df.head()\n"
      ],
      "metadata": {
        "colab": {
          "base_uri": "https://localhost:8080/",
          "height": 270
        },
        "id": "aKlEkEaqavc_",
        "outputId": "9944588a-f6db-458c-c4f0-073d2931e4c1"
      },
      "execution_count": null,
      "outputs": [
        {
          "output_type": "execute_result",
          "data": {
            "text/plain": [
              "   Id  LotArea  MasVnrArea  BsmtUnfSF  TotalBsmtSF  1stFlrSF  2ndFlrSF  \\\n",
              "0   0      327         128         73          179       134       232   \n",
              "1   1      498           0        167          441       427         0   \n",
              "2   2      702         104        278          214       178       239   \n",
              "3   3      489           0        346          117       208       180   \n",
              "4   4      925         221        318          370       347       320   \n",
              "\n",
              "   GrLivArea  GarageArea  WoodDeckSF  OpenPorchSF  SalePrice  \n",
              "0        531         220           0           49        412  \n",
              "1        259         149         187            0        339  \n",
              "2        570         260           0           30        442  \n",
              "3        536         284           0           24        194  \n",
              "4        734         380         118           70        494  "
            ],
            "text/html": [
              "\n",
              "  <div id=\"df-4e523975-5a3c-4565-814a-55aa7ffb4df6\">\n",
              "    <div class=\"colab-df-container\">\n",
              "      <div>\n",
              "<style scoped>\n",
              "    .dataframe tbody tr th:only-of-type {\n",
              "        vertical-align: middle;\n",
              "    }\n",
              "\n",
              "    .dataframe tbody tr th {\n",
              "        vertical-align: top;\n",
              "    }\n",
              "\n",
              "    .dataframe thead th {\n",
              "        text-align: right;\n",
              "    }\n",
              "</style>\n",
              "<table border=\"1\" class=\"dataframe\">\n",
              "  <thead>\n",
              "    <tr style=\"text-align: right;\">\n",
              "      <th></th>\n",
              "      <th>Id</th>\n",
              "      <th>LotArea</th>\n",
              "      <th>MasVnrArea</th>\n",
              "      <th>BsmtUnfSF</th>\n",
              "      <th>TotalBsmtSF</th>\n",
              "      <th>1stFlrSF</th>\n",
              "      <th>2ndFlrSF</th>\n",
              "      <th>GrLivArea</th>\n",
              "      <th>GarageArea</th>\n",
              "      <th>WoodDeckSF</th>\n",
              "      <th>OpenPorchSF</th>\n",
              "      <th>SalePrice</th>\n",
              "    </tr>\n",
              "  </thead>\n",
              "  <tbody>\n",
              "    <tr>\n",
              "      <th>0</th>\n",
              "      <td>0</td>\n",
              "      <td>327</td>\n",
              "      <td>128</td>\n",
              "      <td>73</td>\n",
              "      <td>179</td>\n",
              "      <td>134</td>\n",
              "      <td>232</td>\n",
              "      <td>531</td>\n",
              "      <td>220</td>\n",
              "      <td>0</td>\n",
              "      <td>49</td>\n",
              "      <td>412</td>\n",
              "    </tr>\n",
              "    <tr>\n",
              "      <th>1</th>\n",
              "      <td>1</td>\n",
              "      <td>498</td>\n",
              "      <td>0</td>\n",
              "      <td>167</td>\n",
              "      <td>441</td>\n",
              "      <td>427</td>\n",
              "      <td>0</td>\n",
              "      <td>259</td>\n",
              "      <td>149</td>\n",
              "      <td>187</td>\n",
              "      <td>0</td>\n",
              "      <td>339</td>\n",
              "    </tr>\n",
              "    <tr>\n",
              "      <th>2</th>\n",
              "      <td>2</td>\n",
              "      <td>702</td>\n",
              "      <td>104</td>\n",
              "      <td>278</td>\n",
              "      <td>214</td>\n",
              "      <td>178</td>\n",
              "      <td>239</td>\n",
              "      <td>570</td>\n",
              "      <td>260</td>\n",
              "      <td>0</td>\n",
              "      <td>30</td>\n",
              "      <td>442</td>\n",
              "    </tr>\n",
              "    <tr>\n",
              "      <th>3</th>\n",
              "      <td>3</td>\n",
              "      <td>489</td>\n",
              "      <td>0</td>\n",
              "      <td>346</td>\n",
              "      <td>117</td>\n",
              "      <td>208</td>\n",
              "      <td>180</td>\n",
              "      <td>536</td>\n",
              "      <td>284</td>\n",
              "      <td>0</td>\n",
              "      <td>24</td>\n",
              "      <td>194</td>\n",
              "    </tr>\n",
              "    <tr>\n",
              "      <th>4</th>\n",
              "      <td>4</td>\n",
              "      <td>925</td>\n",
              "      <td>221</td>\n",
              "      <td>318</td>\n",
              "      <td>370</td>\n",
              "      <td>347</td>\n",
              "      <td>320</td>\n",
              "      <td>734</td>\n",
              "      <td>380</td>\n",
              "      <td>118</td>\n",
              "      <td>70</td>\n",
              "      <td>494</td>\n",
              "    </tr>\n",
              "  </tbody>\n",
              "</table>\n",
              "</div>\n",
              "      <button class=\"colab-df-convert\" onclick=\"convertToInteractive('df-4e523975-5a3c-4565-814a-55aa7ffb4df6')\"\n",
              "              title=\"Convert this dataframe to an interactive table.\"\n",
              "              style=\"display:none;\">\n",
              "        \n",
              "  <svg xmlns=\"http://www.w3.org/2000/svg\" height=\"24px\"viewBox=\"0 0 24 24\"\n",
              "       width=\"24px\">\n",
              "    <path d=\"M0 0h24v24H0V0z\" fill=\"none\"/>\n",
              "    <path d=\"M18.56 5.44l.94 2.06.94-2.06 2.06-.94-2.06-.94-.94-2.06-.94 2.06-2.06.94zm-11 1L8.5 8.5l.94-2.06 2.06-.94-2.06-.94L8.5 2.5l-.94 2.06-2.06.94zm10 10l.94 2.06.94-2.06 2.06-.94-2.06-.94-.94-2.06-.94 2.06-2.06.94z\"/><path d=\"M17.41 7.96l-1.37-1.37c-.4-.4-.92-.59-1.43-.59-.52 0-1.04.2-1.43.59L10.3 9.45l-7.72 7.72c-.78.78-.78 2.05 0 2.83L4 21.41c.39.39.9.59 1.41.59.51 0 1.02-.2 1.41-.59l7.78-7.78 2.81-2.81c.8-.78.8-2.07 0-2.86zM5.41 20L4 18.59l7.72-7.72 1.47 1.35L5.41 20z\"/>\n",
              "  </svg>\n",
              "      </button>\n",
              "      \n",
              "  <style>\n",
              "    .colab-df-container {\n",
              "      display:flex;\n",
              "      flex-wrap:wrap;\n",
              "      gap: 12px;\n",
              "    }\n",
              "\n",
              "    .colab-df-convert {\n",
              "      background-color: #E8F0FE;\n",
              "      border: none;\n",
              "      border-radius: 50%;\n",
              "      cursor: pointer;\n",
              "      display: none;\n",
              "      fill: #1967D2;\n",
              "      height: 32px;\n",
              "      padding: 0 0 0 0;\n",
              "      width: 32px;\n",
              "    }\n",
              "\n",
              "    .colab-df-convert:hover {\n",
              "      background-color: #E2EBFA;\n",
              "      box-shadow: 0px 1px 2px rgba(60, 64, 67, 0.3), 0px 1px 3px 1px rgba(60, 64, 67, 0.15);\n",
              "      fill: #174EA6;\n",
              "    }\n",
              "\n",
              "    [theme=dark] .colab-df-convert {\n",
              "      background-color: #3B4455;\n",
              "      fill: #D2E3FC;\n",
              "    }\n",
              "\n",
              "    [theme=dark] .colab-df-convert:hover {\n",
              "      background-color: #434B5C;\n",
              "      box-shadow: 0px 1px 3px 1px rgba(0, 0, 0, 0.15);\n",
              "      filter: drop-shadow(0px 1px 2px rgba(0, 0, 0, 0.3));\n",
              "      fill: #FFFFFF;\n",
              "    }\n",
              "  </style>\n",
              "\n",
              "      <script>\n",
              "        const buttonEl =\n",
              "          document.querySelector('#df-4e523975-5a3c-4565-814a-55aa7ffb4df6 button.colab-df-convert');\n",
              "        buttonEl.style.display =\n",
              "          google.colab.kernel.accessAllowed ? 'block' : 'none';\n",
              "\n",
              "        async function convertToInteractive(key) {\n",
              "          const element = document.querySelector('#df-4e523975-5a3c-4565-814a-55aa7ffb4df6');\n",
              "          const dataTable =\n",
              "            await google.colab.kernel.invokeFunction('convertToInteractive',\n",
              "                                                     [key], {});\n",
              "          if (!dataTable) return;\n",
              "\n",
              "          const docLinkHtml = 'Like what you see? Visit the ' +\n",
              "            '<a target=\"_blank\" href=https://colab.research.google.com/notebooks/data_table.ipynb>data table notebook</a>'\n",
              "            + ' to learn more about interactive tables.';\n",
              "          element.innerHTML = '';\n",
              "          dataTable['output_type'] = 'display_data';\n",
              "          await google.colab.output.renderOutput(dataTable, element);\n",
              "          const docLink = document.createElement('div');\n",
              "          docLink.innerHTML = docLinkHtml;\n",
              "          element.appendChild(docLink);\n",
              "        }\n",
              "      </script>\n",
              "    </div>\n",
              "  </div>\n",
              "  "
            ]
          },
          "metadata": {},
          "execution_count": 19
        }
      ]
    },
    {
      "cell_type": "code",
      "source": [
        "corr = df.corr()\n",
        "plt.figure(figsize=(12,7))\n",
        "sns.heatmap(corr,cmap='coolwarm',annot=True)"
      ],
      "metadata": {
        "colab": {
          "base_uri": "https://localhost:8080/",
          "height": 682
        },
        "id": "CB-OiajWaz98",
        "outputId": "915d05fb-3564-4203-9461-469869e4ea13"
      },
      "execution_count": null,
      "outputs": [
        {
          "output_type": "execute_result",
          "data": {
            "text/plain": [
              "<Axes: >"
            ]
          },
          "metadata": {},
          "execution_count": 20
        },
        {
          "output_type": "display_data",
          "data": {
            "text/plain": [
              "<Figure size 1200x700 with 2 Axes>"
            ],
            "image/png": "[encoded data removed]"
          },
          "metadata": {}
        }
      ]
    },
    {
      "cell_type": "code",
      "source": [
        "X = df.drop(['Id'],axis=1)\n",
        "y = df['Id']"
      ],
      "metadata": {
        "id": "Y38KdetOa9PU"
      },
      "execution_count": null,
      "outputs": []
    },
    {
      "cell_type": "code",
      "source": [
        "X"
      ],
      "metadata": {
        "colab": {
          "base_uri": "https://localhost:8080/",
          "height": 488
        },
        "id": "8eThdBspbStx",
        "outputId": "0a2e17fe-b79a-4572-f38b-ed3e374e76cb"
      },
      "execution_count": null,
      "outputs": [
        {
          "output_type": "execute_result",
          "data": {
            "text/plain": [
              "      LotArea  MasVnrArea  BsmtUnfSF  TotalBsmtSF  1stFlrSF  2ndFlrSF  \\\n",
              "0         327         128         73          179       134       232   \n",
              "1         498           0        167          441       427         0   \n",
              "2         702         104        278          214       178       239   \n",
              "3         489           0        346          117       208       180   \n",
              "4         925         221        318          370       347       320   \n",
              "...       ...         ...        ...          ...       ...       ...   \n",
              "1455      267           0        570          238       201       143   \n",
              "1456      866          72        376          577       723         0   \n",
              "1457      415           0        536          375       378       354   \n",
              "1458      505           0          0          325       296         0   \n",
              "1459      532           0         65          436       423         0   \n",
              "\n",
              "      GrLivArea  GarageArea  WoodDeckSF  OpenPorchSF  SalePrice  \n",
              "0           531         220           0           49        412  \n",
              "1           259         149         187            0        339  \n",
              "2           570         260           0           30        442  \n",
              "3           536         284           0           24        194  \n",
              "4           734         380         118           70        494  \n",
              "...         ...         ...         ...          ...        ...  \n",
              "1455        489         149           0           28        314  \n",
              "1456        694         182         214            0        415  \n",
              "1457        767          24           0           48        527  \n",
              "1458        147          19         224            0        199  \n",
              "1459        256          35         272           56        221  \n",
              "\n",
              "[1460 rows x 11 columns]"
            ],
            "text/html": [
              "\n",
              "  <div id=\"df-926f906a-1135-4b60-9a02-5bbb510e38f0\">\n",
              "    <div class=\"colab-df-container\">\n",
              "      <div>\n",
              "<style scoped>\n",
              "    .dataframe tbody tr th:only-of-type {\n",
              "        vertical-align: middle;\n",
              "    }\n",
              "\n",
              "    .dataframe tbody tr th {\n",
              "        vertical-align: top;\n",
              "    }\n",
              "\n",
              "    .dataframe thead th {\n",
              "        text-align: right;\n",
              "    }\n",
              "</style>\n",
              "<table border=\"1\" class=\"dataframe\">\n",
              "  <thead>\n",
              "    <tr style=\"text-align: right;\">\n",
              "      <th></th>\n",
              "      <th>LotArea</th>\n",
              "      <th>MasVnrArea</th>\n",
              "      <th>BsmtUnfSF</th>\n",
              "      <th>TotalBsmtSF</th>\n",
              "      <th>1stFlrSF</th>\n",
              "      <th>2ndFlrSF</th>\n",
              "      <th>GrLivArea</th>\n",
              "      <th>GarageArea</th>\n",
              "      <th>WoodDeckSF</th>\n",
              "      <th>OpenPorchSF</th>\n",
              "      <th>SalePrice</th>\n",
              "    </tr>\n",
              "  </thead>\n",
              "  <tbody>\n",
              "    <tr>\n",
              "      <th>0</th>\n",
              "      <td>327</td>\n",
              "      <td>128</td>\n",
              "      <td>73</td>\n",
              "      <td>179</td>\n",
              "      <td>134</td>\n",
              "      <td>232</td>\n",
              "      <td>531</td>\n",
              "      <td>220</td>\n",
              "      <td>0</td>\n",
              "      <td>49</td>\n",
              "      <td>412</td>\n",
              "    </tr>\n",
              "    <tr>\n",
              "      <th>1</th>\n",
              "      <td>498</td>\n",
              "      <td>0</td>\n",
              "      <td>167</td>\n",
              "      <td>441</td>\n",
              "      <td>427</td>\n",
              "      <td>0</td>\n",
              "      <td>259</td>\n",
              "      <td>149</td>\n",
              "      <td>187</td>\n",
              "      <td>0</td>\n",
              "      <td>339</td>\n",
              "    </tr>\n",
              "    <tr>\n",
              "      <th>2</th>\n",
              "      <td>702</td>\n",
              "      <td>104</td>\n",
              "      <td>278</td>\n",
              "      <td>214</td>\n",
              "      <td>178</td>\n",
              "      <td>239</td>\n",
              "      <td>570</td>\n",
              "      <td>260</td>\n",
              "      <td>0</td>\n",
              "      <td>30</td>\n",
              "      <td>442</td>\n",
              "    </tr>\n",
              "    <tr>\n",
              "      <th>3</th>\n",
              "      <td>489</td>\n",
              "      <td>0</td>\n",
              "      <td>346</td>\n",
              "      <td>117</td>\n",
              "      <td>208</td>\n",
              "      <td>180</td>\n",
              "      <td>536</td>\n",
              "      <td>284</td>\n",
              "      <td>0</td>\n",
              "      <td>24</td>\n",
              "      <td>194</td>\n",
              "    </tr>\n",
              "    <tr>\n",
              "      <th>4</th>\n",
              "      <td>925</td>\n",
              "      <td>221</td>\n",
              "      <td>318</td>\n",
              "      <td>370</td>\n",
              "      <td>347</td>\n",
              "      <td>320</td>\n",
              "      <td>734</td>\n",
              "      <td>380</td>\n",
              "      <td>118</td>\n",
              "      <td>70</td>\n",
              "      <td>494</td>\n",
              "    </tr>\n",
              "    <tr>\n",
              "      <th>...</th>\n",
              "      <td>...</td>\n",
              "      <td>...</td>\n",
              "      <td>...</td>\n",
              "      <td>...</td>\n",
              "      <td>...</td>\n",
              "      <td>...</td>\n",
              "      <td>...</td>\n",
              "      <td>...</td>\n",
              "      <td>...</td>\n",
              "      <td>...</td>\n",
              "      <td>...</td>\n",
              "    </tr>\n",
              "    <tr>\n",
              "      <th>1455</th>\n",
              "      <td>267</td>\n",
              "      <td>0</td>\n",
              "      <td>570</td>\n",
              "      <td>238</td>\n",
              "      <td>201</td>\n",
              "      <td>143</td>\n",
              "      <td>489</td>\n",
              "      <td>149</td>\n",
              "      <td>0</td>\n",
              "      <td>28</td>\n",
              "      <td>314</td>\n",
              "    </tr>\n",
              "    <tr>\n",
              "      <th>1456</th>\n",
              "      <td>866</td>\n",
              "      <td>72</td>\n",
              "      <td>376</td>\n",
              "      <td>577</td>\n",
              "      <td>723</td>\n",
              "      <td>0</td>\n",
              "      <td>694</td>\n",
              "      <td>182</td>\n",
              "      <td>214</td>\n",
              "      <td>0</td>\n",
              "      <td>415</td>\n",
              "    </tr>\n",
              "    <tr>\n",
              "      <th>1457</th>\n",
              "      <td>415</td>\n",
              "      <td>0</td>\n",
              "      <td>536</td>\n",
              "      <td>375</td>\n",
              "      <td>378</td>\n",
              "      <td>354</td>\n",
              "      <td>767</td>\n",
              "      <td>24</td>\n",
              "      <td>0</td>\n",
              "      <td>48</td>\n",
              "      <td>527</td>\n",
              "    </tr>\n",
              "    <tr>\n",
              "      <th>1458</th>\n",
              "      <td>505</td>\n",
              "      <td>0</td>\n",
              "      <td>0</td>\n",
              "      <td>325</td>\n",
              "      <td>296</td>\n",
              "      <td>0</td>\n",
              "      <td>147</td>\n",
              "      <td>19</td>\n",
              "      <td>224</td>\n",
              "      <td>0</td>\n",
              "      <td>199</td>\n",
              "    </tr>\n",
              "    <tr>\n",
              "      <th>1459</th>\n",
              "      <td>532</td>\n",
              "      <td>0</td>\n",
              "      <td>65</td>\n",
              "      <td>436</td>\n",
              "      <td>423</td>\n",
              "      <td>0</td>\n",
              "      <td>256</td>\n",
              "      <td>35</td>\n",
              "      <td>272</td>\n",
              "      <td>56</td>\n",
              "      <td>221</td>\n",
              "    </tr>\n",
              "  </tbody>\n",
              "</table>\n",
              "<p>1460 rows × 11 columns</p>\n",
              "</div>\n",
              "      <button class=\"colab-df-convert\" onclick=\"convertToInteractive('df-926f906a-1135-4b60-9a02-5bbb510e38f0')\"\n",
              "              title=\"Convert this dataframe to an interactive table.\"\n",
              "              style=\"display:none;\">\n",
              "        \n",
              "  <svg xmlns=\"http://www.w3.org/2000/svg\" height=\"24px\"viewBox=\"0 0 24 24\"\n",
              "       width=\"24px\">\n",
              "    <path d=\"M0 0h24v24H0V0z\" fill=\"none\"/>\n",
              "    <path d=\"M18.56 5.44l.94 2.06.94-2.06 2.06-.94-2.06-.94-.94-2.06-.94 2.06-2.06.94zm-11 1L8.5 8.5l.94-2.06 2.06-.94-2.06-.94L8.5 2.5l-.94 2.06-2.06.94zm10 10l.94 2.06.94-2.06 2.06-.94-2.06-.94-.94-2.06-.94 2.06-2.06.94z\"/><path d=\"M17.41 7.96l-1.37-1.37c-.4-.4-.92-.59-1.43-.59-.52 0-1.04.2-1.43.59L10.3 9.45l-7.72 7.72c-.78.78-.78 2.05 0 2.83L4 21.41c.39.39.9.59 1.41.59.51 0 1.02-.2 1.41-.59l7.78-7.78 2.81-2.81c.8-.78.8-2.07 0-2.86zM5.41 20L4 18.59l7.72-7.72 1.47 1.35L5.41 20z\"/>\n",
              "  </svg>\n",
              "      </button>\n",
              "      \n",
              "  <style>\n",
              "    .colab-df-container {\n",
              "      display:flex;\n",
              "      flex-wrap:wrap;\n",
              "      gap: 12px;\n",
              "    }\n",
              "\n",
              "    .colab-df-convert {\n",
              "      background-color: #E8F0FE;\n",
              "      border: none;\n",
              "      border-radius: 50%;\n",
              "      cursor: pointer;\n",
              "      display: none;\n",
              "      fill: #1967D2;\n",
              "      height: 32px;\n",
              "      padding: 0 0 0 0;\n",
              "      width: 32px;\n",
              "    }\n",
              "\n",
              "    .colab-df-convert:hover {\n",
              "      background-color: #E2EBFA;\n",
              "      box-shadow: 0px 1px 2px rgba(60, 64, 67, 0.3), 0px 1px 3px 1px rgba(60, 64, 67, 0.15);\n",
              "      fill: #174EA6;\n",
              "    }\n",
              "\n",
              "    [theme=dark] .colab-df-convert {\n",
              "      background-color: #3B4455;\n",
              "      fill: #D2E3FC;\n",
              "    }\n",
              "\n",
              "    [theme=dark] .colab-df-convert:hover {\n",
              "      background-color: #434B5C;\n",
              "      box-shadow: 0px 1px 3px 1px rgba(0, 0, 0, 0.15);\n",
              "      filter: drop-shadow(0px 1px 2px rgba(0, 0, 0, 0.3));\n",
              "      fill: #FFFFFF;\n",
              "    }\n",
              "  </style>\n",
              "\n",
              "      <script>\n",
              "        const buttonEl =\n",
              "          document.querySelector('#df-926f906a-1135-4b60-9a02-5bbb510e38f0 button.colab-df-convert');\n",
              "        buttonEl.style.display =\n",
              "          google.colab.kernel.accessAllowed ? 'block' : 'none';\n",
              "\n",
              "        async function convertToInteractive(key) {\n",
              "          const element = document.querySelector('#df-926f906a-1135-4b60-9a02-5bbb510e38f0');\n",
              "          const dataTable =\n",
              "            await google.colab.kernel.invokeFunction('convertToInteractive',\n",
              "                                                     [key], {});\n",
              "          if (!dataTable) return;\n",
              "\n",
              "          const docLinkHtml = 'Like what you see? Visit the ' +\n",
              "            '<a target=\"_blank\" href=https://colab.research.google.com/notebooks/data_table.ipynb>data table notebook</a>'\n",
              "            + ' to learn more about interactive tables.';\n",
              "          element.innerHTML = '';\n",
              "          dataTable['output_type'] = 'display_data';\n",
              "          await google.colab.output.renderOutput(dataTable, element);\n",
              "          const docLink = document.createElement('div');\n",
              "          docLink.innerHTML = docLinkHtml;\n",
              "          element.appendChild(docLink);\n",
              "        }\n",
              "      </script>\n",
              "    </div>\n",
              "  </div>\n",
              "  "
            ]
          },
          "metadata": {},
          "execution_count": 24
        }
      ]
    },
    {
      "cell_type": "code",
      "source": [
        "y"
      ],
      "metadata": {
        "colab": {
          "base_uri": "https://localhost:8080/"
        },
        "id": "5oxW4eZMbY9Y",
        "outputId": "0ea0153d-5a5e-485b-8f96-e8dd996e3d50"
      },
      "execution_count": null,
      "outputs": [
        {
          "output_type": "execute_result",
          "data": {
            "text/plain": [
              "0          0\n",
              "1          1\n",
              "2          2\n",
              "3          3\n",
              "4          4\n",
              "        ... \n",
              "1455    1455\n",
              "1456    1456\n",
              "1457    1457\n",
              "1458    1458\n",
              "1459    1459\n",
              "Name: Id, Length: 1460, dtype: int64"
            ]
          },
          "metadata": {},
          "execution_count": 26
        }
      ]
    },
    {
      "cell_type": "code",
      "source": [
        "from sklearn.model_selection import train_test_split\n",
        "X_train,X_test,y_train,y_test = train_test_split(X,y,test_size=0.3,random_state=42)"
      ],
      "metadata": {
        "id": "DAsyTnKrbtp3"
      },
      "execution_count": null,
      "outputs": []
    },
    {
      "cell_type": "code",
      "source": [
        "len(X_train),len(X_test)"
      ],
      "metadata": {
        "colab": {
          "base_uri": "https://localhost:8080/"
        },
        "id": "i4q1lD7xbySE",
        "outputId": "98404d0b-2cf7-43d8-8511-0dc6ac96491f"
      },
      "execution_count": null,
      "outputs": [
        {
          "output_type": "execute_result",
          "data": {
            "text/plain": [
              "(1022, 438)"
            ]
          },
          "metadata": {},
          "execution_count": 28
        }
      ]
    },
    {
      "cell_type": "code",
      "source": [
        "from sklearn.linear_model import LinearRegression\n",
        "model = LinearRegression()"
      ],
      "metadata": {
        "id": "gD4GC0i4b3ah"
      },
      "execution_count": null,
      "outputs": []
    },
    {
      "cell_type": "code",
      "source": [
        "model.fit(X_train,y_train)"
      ],
      "metadata": {
        "colab": {
          "base_uri": "https://localhost:8080/",
          "height": 75
        },
        "id": "WITgBDSicnI_",
        "outputId": "dfd8d289-b38e-46b3-9c50-fc36502ea34f"
      },
      "execution_count": null,
      "outputs": [
        {
          "output_type": "execute_result",
          "data": {
            "text/plain": [
              "LinearRegression()"
            ],
            "text/html": [
              "<style>#sk-container-id-1 {color: black;background-color: white;}#sk-container-id-1 pre{padding: 0;}#sk-container-id-1 div.sk-toggleable {background-color: white;}#sk-container-id-1 label.sk-toggleable__label {cursor: pointer;display: block;width: 100%;margin-bottom: 0;padding: 0.3em;box-sizing: border-box;text-align: center;}#sk-container-id-1 label.sk-toggleable__label-arrow:before {content: \"▸\";float: left;margin-right: 0.25em;color: #696969;}#sk-container-id-1 label.sk-toggleable__label-arrow:hover:before {color: black;}#sk-container-id-1 div.sk-estimator:hover label.sk-toggleable__label-arrow:before {color: black;}#sk-container-id-1 div.sk-toggleable__content {max-height: 0;max-width: 0;overflow: hidden;text-align: left;background-color: #f0f8ff;}#sk-container-id-1 div.sk-toggleable__content pre {margin: 0.2em;color: black;border-radius: 0.25em;background-color: #f0f8ff;}#sk-container-id-1 input.sk-toggleable__control:checked~div.sk-toggleable__content {max-height: 200px;max-width: 100%;overflow: auto;}#sk-container-id-1 input.sk-toggleable__control:checked~label.sk-toggleable__label-arrow:before {content: \"▾\";}#sk-container-id-1 div.sk-estimator input.sk-toggleable__control:checked~label.sk-toggleable__label {background-color: #d4ebff;}#sk-container-id-1 div.sk-label input.sk-toggleable__control:checked~label.sk-toggleable__label {background-color: #d4ebff;}#sk-container-id-1 input.sk-hidden--visually {border: 0;clip: rect(1px 1px 1px 1px);clip: rect(1px, 1px, 1px, 1px);height: 1px;margin: -1px;overflow: hidden;padding: 0;position: absolute;width: 1px;}#sk-container-id-1 div.sk-estimator {font-family: monospace;background-color: #f0f8ff;border: 1px dotted black;border-radius: 0.25em;box-sizing: border-box;margin-bottom: 0.5em;}#sk-container-id-1 div.sk-estimator:hover {background-color: #d4ebff;}#sk-container-id-1 div.sk-parallel-item::after {content: \"\";width: 100%;border-bottom: 1px solid gray;flex-grow: 1;}#sk-container-id-1 div.sk-label:hover label.sk-toggleable__label {background-color: #d4ebff;}#sk-container-id-1 div.sk-serial::before {content: \"\";position: absolute;border-left: 1px solid gray;box-sizing: border-box;top: 0;bottom: 0;left: 50%;z-index: 0;}#sk-container-id-1 div.sk-serial {display: flex;flex-direction: column;align-items: center;background-color: white;padding-right: 0.2em;padding-left: 0.2em;position: relative;}#sk-container-id-1 div.sk-item {position: relative;z-index: 1;}#sk-container-id-1 div.sk-parallel {display: flex;align-items: stretch;justify-content: center;background-color: white;position: relative;}#sk-container-id-1 div.sk-item::before, #sk-container-id-1 div.sk-parallel-item::before {content: \"\";position: absolute;border-left: 1px solid gray;box-sizing: border-box;top: 0;bottom: 0;left: 50%;z-index: -1;}#sk-container-id-1 div.sk-parallel-item {display: flex;flex-direction: column;z-index: 1;position: relative;background-color: white;}#sk-container-id-1 div.sk-parallel-item:first-child::after {align-self: flex-end;width: 50%;}#sk-container-id-1 div.sk-parallel-item:last-child::after {align-self: flex-start;width: 50%;}#sk-container-id-1 div.sk-parallel-item:only-child::after {width: 0;}#sk-container-id-1 div.sk-dashed-wrapped {border: 1px dashed gray;margin: 0 0.4em 0.5em 0.4em;box-sizing: border-box;padding-bottom: 0.4em;background-color: white;}#sk-container-id-1 div.sk-label label {font-family: monospace;font-weight: bold;display: inline-block;line-height: 1.2em;}#sk-container-id-1 div.sk-label-container {text-align: center;}#sk-container-id-1 div.sk-container {/* jupyter's `normalize.less` sets `[hidden] { display: none; }` but bootstrap.min.css set `[hidden] { display: none !important; }` so we also need the `!important` here to be able to override the default hidden behavior on the sphinx rendered scikit-learn.org. See: https://github.com/scikit-learn/scikit-learn/issues/21755 */display: inline-block !important;position: relative;}#sk-container-id-1 div.sk-text-repr-fallback {display: none;}</style><div id=\"sk-container-id-1\" class=\"sk-top-container\"><div class=\"sk-text-repr-fallback\"><pre>LinearRegression()</pre><b>In a Jupyter environment, please rerun this cell to show the HTML representation or trust the notebook. <br />On GitHub, the HTML representation is unable to render, please try loading this page with nbviewer.org.</b></div><div class=\"sk-container\" hidden><div class=\"sk-item\"><div class=\"sk-estimator sk-toggleable\"><input class=\"sk-toggleable__control sk-hidden--visually\" id=\"sk-estimator-id-1\" type=\"checkbox\" checked><label for=\"sk-estimator-id-1\" class=\"sk-toggleable__label sk-toggleable__label-arrow\">LinearRegression</label><div class=\"sk-toggleable__content\"><pre>LinearRegression()</pre></div></div></div></div></div>"
            ]
          },
          "metadata": {},
          "execution_count": 30
        }
      ]
    },
    {
      "cell_type": "code",
      "source": [
        "y_predict = model.predict(X_test)"
      ],
      "metadata": {
        "id": "Fi50j8LxctkA"
      },
      "execution_count": null,
      "outputs": []
    },
    {
      "cell_type": "code",
      "source": [
        "y_predict"
      ],
      "metadata": {
        "colab": {
          "base_uri": "https://localhost:8080/"
        },
        "id": "9t1Ejwdnc2JT",
        "outputId": "99480a7c-b353-409c-d38c-6d50c8fe00a7"
      },
      "execution_count": null,
      "outputs": [
        {
          "output_type": "execute_result",
          "data": {
            "text/plain": [
              "array([680.36594525, 682.25082296, 733.11799114, 709.7393569 ,\n",
              "       718.100452  , 723.28041307, 713.27611234, 726.28505732,\n",
              "       715.73035238, 713.70402089, 704.92671269, 696.10501157,\n",
              "       847.51355296, 697.02719956, 727.9726082 , 683.36666044,\n",
              "       715.28622419, 713.802232  , 725.11962794, 685.63607291,\n",
              "       791.59099774, 752.25925352, 739.71431757, 709.31572896,\n",
              "       736.44321036, 749.31455471, 696.0765115 , 707.8479154 ,\n",
              "       713.79432652, 727.60226046, 842.72164249, 727.69522434,\n",
              "       634.17905569, 702.73601895, 739.90251052, 704.54178998,\n",
              "       673.0702752 , 696.87905576, 710.0138456 , 772.29504647,\n",
              "       779.56490611, 753.02348445, 693.24655446, 754.58728328,\n",
              "       742.41845981, 744.57182665, 697.24749354, 708.77895505,\n",
              "       713.80337707, 679.8363155 , 733.60484375, 721.47821057,\n",
              "       754.5338885 , 714.48604429, 707.04613356, 691.35302366,\n",
              "       734.39092582, 704.1023194 , 811.55238821, 776.58269502,\n",
              "       746.30065682, 672.67073954, 750.63917914, 702.9423553 ,\n",
              "       705.87078799, 790.28077324, 718.9782104 , 689.92261326,\n",
              "       709.32272484, 690.3553237 , 897.12820397, 756.44957895,\n",
              "       727.83314946, 822.60162587, 660.77229227, 695.57010465,\n",
              "       701.39337367, 722.0196095 , 688.87859453, 716.73780901,\n",
              "       721.41648301, 769.76456015, 756.70694152, 785.71143251,\n",
              "       720.45741255, 728.71233845, 769.77712666, 684.91875016,\n",
              "       699.7653322 , 718.99621647, 801.87636247, 699.99030348,\n",
              "       702.13863135, 667.68595898, 680.49169205, 696.2581641 ,\n",
              "       750.17993886, 716.42122689, 751.20893617, 743.01934621,\n",
              "       687.13433711, 695.78427069, 645.23535683, 797.87957085,\n",
              "       730.37117586, 700.91065106, 705.88725002, 681.44120095,\n",
              "       758.69720642, 730.26400336, 763.62203937, 680.23163508,\n",
              "       707.78197481, 699.90806139, 747.70411855, 693.20151418,\n",
              "       727.90906405, 758.26430647, 900.48317182, 687.91544661,\n",
              "       716.05275036, 703.59164996, 727.40312725, 712.91371146,\n",
              "       709.09317433, 673.98657218, 723.74978955, 746.07455219,\n",
              "       718.15999769, 735.22632812, 716.15069884, 717.71163369,\n",
              "       730.74018169, 775.99237487, 753.47342907, 697.15173384,\n",
              "       698.31489006, 697.18373187, 753.92580187, 695.17193225,\n",
              "       702.13819837, 697.25234738, 762.57208117, 803.87940161,\n",
              "       725.89483194, 726.248269  , 624.36288361, 728.41978651,\n",
              "       717.52181413, 724.86778774, 790.02116994, 727.94848975,\n",
              "       662.09128823, 700.82736499, 744.78659877, 700.056552  ,\n",
              "       712.32593799, 727.48939846, 721.383953  , 748.52301154,\n",
              "       713.53147987, 750.76866152, 689.85014386, 758.78480761,\n",
              "       720.35752088, 684.55968703, 679.8860733 , 750.07341555,\n",
              "       702.25866867, 683.00138181, 711.58159717, 718.14448949,\n",
              "       715.58412807, 720.0812462 , 686.80457446, 877.31099795,\n",
              "       741.3853201 , 665.73547825, 729.7065893 , 703.05980855,\n",
              "       725.50086624, 865.37294177, 763.51063682, 720.03137535,\n",
              "       686.37976605, 790.35237101, 729.2724428 , 724.86296232,\n",
              "       706.5462165 , 750.36102902, 737.27554424, 733.78119248,\n",
              "       728.46731559, 690.21700277, 729.09402471, 681.03409692,\n",
              "       711.81187223, 747.86721757, 700.29069748, 708.87257956,\n",
              "       682.55840681, 683.85026619, 738.29594879, 682.28977407,\n",
              "       713.11406976, 694.75106142, 691.33000761, 735.18501746,\n",
              "       740.26849219, 710.4095015 , 801.12169765, 872.86419813,\n",
              "       750.81765646, 694.71749977, 627.3714609 , 732.56795335,\n",
              "       771.95627306, 767.74029893, 753.41627022, 888.56364041,\n",
              "       712.15078103, 687.05863199, 694.54080856, 736.78520463,\n",
              "       730.32428976, 666.26211446, 795.46796391, 781.43530233,\n",
              "       704.61648817, 743.61339083, 784.14596163, 712.25237018,\n",
              "       706.67024827, 682.43704151, 706.08288793, 716.3091436 ,\n",
              "       734.89350973, 751.75519146, 635.97222504, 684.31865412,\n",
              "       785.44120757, 885.32009673, 714.5921926 , 670.06340705,\n",
              "       723.84298299, 625.90781688, 739.34630224, 702.17072387,\n",
              "       773.07802911, 713.53346468, 682.33446304, 744.10119885,\n",
              "       702.85086525, 735.40264131, 705.33640918, 743.82734784,\n",
              "       702.67924949, 718.28397101, 740.62110915, 667.83189316,\n",
              "       723.98312692, 727.2584218 , 698.85875072, 658.51681771,\n",
              "       720.55486484, 733.35343059, 712.51910903, 706.46878245,\n",
              "       794.86739734, 727.52874802, 709.18062912, 699.29057383,\n",
              "       724.16097325, 752.19500237, 869.51807542, 785.7383861 ,\n",
              "       730.39045477, 697.85345917, 690.13605759, 710.21335235,\n",
              "       712.69476515, 713.89207242, 749.64075951, 732.35623321,\n",
              "       703.8265526 , 697.76500313, 705.15365475, 855.01330441,\n",
              "       630.302391  , 677.53176439, 729.29851208, 745.47183503,\n",
              "       684.55720896, 703.90434194, 733.48420047, 698.74863337,\n",
              "       715.65221866, 733.67913182, 706.63066452, 703.11243831,\n",
              "       713.38602167, 702.51363437, 700.91592673, 696.94651438,\n",
              "       742.8797048 , 765.3815892 , 743.31601211, 693.3657809 ,\n",
              "       691.59381909, 789.95121333, 715.13166672, 697.81888477,\n",
              "       720.00775082, 768.47965226, 691.86509706, 705.23932353,\n",
              "       696.30619569, 760.02960188, 673.85894601, 813.05099966,\n",
              "       723.93610706, 701.60333008, 735.85144876, 705.78551055,\n",
              "       707.652596  , 760.80579472, 755.05084301, 757.75218526,\n",
              "       700.67337899, 717.06535238, 737.46334192, 689.51462888,\n",
              "       692.85541804, 719.69415866, 781.18926801, 744.92990704,\n",
              "       779.96648743, 714.93943603, 729.85788924, 699.77109392,\n",
              "       715.9245518 , 793.60322758, 730.40658977, 737.21714784,\n",
              "       731.33774954, 712.9306419 , 689.00448641, 766.46054622,\n",
              "       774.29512048, 748.74985303, 808.65239717, 696.80021447,\n",
              "       655.47739638, 658.72005907, 739.97771974, 677.5448357 ,\n",
              "       715.88103634, 722.61827172, 739.32515191, 691.89808873,\n",
              "       784.87282029, 724.33509833, 739.04615844, 674.87341558,\n",
              "       707.84711275, 727.73836526, 741.02876411, 734.76731162,\n",
              "       775.03663143, 666.63455403, 689.19614203, 725.83858841,\n",
              "       911.60587619, 710.42678593, 691.88800231, 726.15520378,\n",
              "       686.00564584, 708.74941959, 724.79692208, 679.29374779,\n",
              "       741.32869032, 822.46327679, 681.65364359, 682.02475666,\n",
              "       685.53462982, 754.48856519, 822.75556897, 805.55340517,\n",
              "       714.71147521, 736.14329936, 728.29228714, 900.77628919,\n",
              "       743.68631082, 715.67218209, 772.20460064, 684.32699352,\n",
              "       777.2105693 , 683.24371278, 701.26554727, 803.60024049,\n",
              "       708.70062275, 667.81263807, 743.21462344, 713.30174726,\n",
              "       686.73767401, 690.92256505, 720.82730878, 741.20131228,\n",
              "       716.86168216, 714.62147992, 778.36959788, 712.27705234,\n",
              "       745.03790822, 713.30086381, 673.92436938, 732.62447129,\n",
              "       701.49797867, 712.87345467, 703.06820997, 693.06646795,\n",
              "       686.66417834, 636.09954255, 723.16170545, 770.92929701,\n",
              "       714.79006152, 748.39494874, 688.1544779 , 734.6415995 ,\n",
              "       701.67252743, 743.78185546, 723.87472631, 786.85525054,\n",
              "       742.18717656, 684.88526977, 720.1161814 , 710.17835448,\n",
              "       775.82283817, 704.05320454])"
            ]
          },
          "metadata": {},
          "execution_count": 32
        }
      ]
    },
    {
      "cell_type": "code",
      "source": [
        "from sklearn.metrics import r2_score,mean_absolute_error\n",
        "score = r2_score(y_test,y_predict)\n",
        "mae = mean_absolute_error(y_test,y_predict)"
      ],
      "metadata": {
        "id": "3wRmIRqGc2Vo"
      },
      "execution_count": null,
      "outputs": []
    },
    {
      "cell_type": "code",
      "source": [
        "score"
      ],
      "metadata": {
        "colab": {
          "base_uri": "https://localhost:8080/"
        },
        "id": "Nc5zxeu3dMIa",
        "outputId": "ce94c68f-94a6-47aa-b0bf-076615bf7046"
      },
      "execution_count": null,
      "outputs": [
        {
          "output_type": "execute_result",
          "data": {
            "text/plain": [
              "-0.020372985288945378"
            ]
          },
          "metadata": {},
          "execution_count": 36
        }
      ]
    },
    {
      "cell_type": "code",
      "source": [
        "mae"
      ],
      "metadata": {
        "colab": {
          "base_uri": "https://localhost:8080/"
        },
        "id": "JDD7R7J5dPm_",
        "outputId": "6f7aa234-8080-4960-b59a-2085a15f8328"
      },
      "execution_count": null,
      "outputs": [
        {
          "output_type": "execute_result",
          "data": {
            "text/plain": [
              "359.0716487447242"
            ]
          },
          "metadata": {},
          "execution_count": 35
        }
      ]
    },
    {
      "cell_type": "markdown",
      "source": [
        "# New Section"
      ],
      "metadata": {
        "id": "pTdQ39QY9ErJ"
      }
    }
  ]
}